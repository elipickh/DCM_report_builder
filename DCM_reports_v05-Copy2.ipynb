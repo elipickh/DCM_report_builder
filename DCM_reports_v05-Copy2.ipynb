{
 "cells": [
  {
   "cell_type": "markdown",
   "metadata": {},
   "source": [
    "<img src=\"https://dashthis.com/support/wp-content/uploads/2016/10/dclk-logo-ui-campaign-manager.png\" width=\"300\">\n",
    "<h1><center>Creating and downloading DCM front-end reports via the API</center></h1>"
   ]
  },
  {
   "cell_type": "code",
   "execution_count": null,
   "metadata": {},
   "outputs": [],
   "source": [
    "%%capture\n",
    "!pip install --upgrade google-api-python-client oauth2client, httplib2, dateutil.parser\n",
    "import inspect, time\n",
    "from io import StringIO\n",
    "import pandas as pd"
   ]
  },
  {
   "cell_type": "markdown",
   "metadata": {
    "collapsed": true
   },
   "source": [
    "## First-time users: follow the instructions in [this guide](#guide)"
   ]
  },
  {
   "cell_type": "markdown",
   "metadata": {},
   "source": [
    "## <font color=red>Enter query parameters</font>\n",
    "### <font color=red>--------------------------------------------------------------</font>"
   ]
  },
  {
   "cell_type": "code",
   "execution_count": null,
   "metadata": {},
   "outputs": [],
   "source": [
    "profile_id_dcmapi = '' # Your DCM ID"
   ]
  },
  {
   "cell_type": "markdown",
   "metadata": {},
   "source": [
    "### <font color=red>--------------------------------------------------------------</font>"
   ]
  },
  {
   "cell_type": "markdown",
   "metadata": {},
   "source": [
    "### Initialize API access\n",
    "#### First-time users will be propmpted for their DCM account credentials. Click 'Allow' to continue."
   ]
  },
  {
   "cell_type": "code",
   "execution_count": null,
   "metadata": {},
   "outputs": [],
   "source": [
    "import dcm_tools\n",
    "exec(inspect.getsource(dcm_tools.create_report))\n",
    "dcm_tools.dcm_api_init(profile_id_dcmapi)"
   ]
  },
  {
   "cell_type": "markdown",
   "metadata": {},
   "source": [
    "### <font color=red>--------------------------------------------------------------</font>\n",
    "## Run and dowlonad a *pre-configured* report"
   ]
  },
  {
   "cell_type": "code",
   "execution_count": null,
   "metadata": {},
   "outputs": [],
   "source": [
    "report_id_dcmapi = '' # Enter your pre-existing report ID"
   ]
  },
  {
   "cell_type": "code",
   "execution_count": null,
   "metadata": {},
   "outputs": [],
   "source": [
    "report_df, report_meta_df = dcm_tools.download_report(profile_id_dcmapi, report_id_dcmapi)\n",
    "report_df"
   ]
  },
  {
   "cell_type": "code",
   "execution_count": null,
   "metadata": {},
   "outputs": [],
   "source": [
    "#pd.set_option('display.max_colwidth', -1)\n",
    "report_meta_df"
   ]
  },
  {
   "cell_type": "code",
   "execution_count": null,
   "metadata": {},
   "outputs": [],
   "source": []
  },
  {
   "cell_type": "markdown",
   "metadata": {
    "collapsed": true
   },
   "source": [
    "## Run and download a *new* report "
   ]
  },
  {
   "cell_type": "markdown",
   "metadata": {},
   "source": [
    "### Report <font color='red'>name</font>"
   ]
  },
  {
   "cell_type": "code",
   "execution_count": null,
   "metadata": {},
   "outputs": [],
   "source": [
    "report_name_dcmapi = 'testing1'"
   ]
  },
  {
   "cell_type": "markdown",
   "metadata": {},
   "source": [
    "### Report <font color='red'>type</font>. \n",
    "#### One of: 'STANDARD', CROSS_DIMENSION_REACH', 'FLOODLIGHT', 'PATH_TO_CONVERSION', 'REACH' <br>(Only Standard is currently implemented.)"
   ]
  },
  {
   "cell_type": "code",
   "execution_count": null,
   "metadata": {},
   "outputs": [],
   "source": [
    "report_type_dcmapi = 'STANDARD'"
   ]
  },
  {
   "cell_type": "markdown",
   "metadata": {},
   "source": [
    "### Set <font color='green'>dates</font> -- either start/end or relative range. Do not enter both.\n",
    "##### Relative date range can be one of:\n",
    "* \"LAST_24_MONTHS\"\n",
    "* \"LAST_30_DAYS\"\n",
    "* \"LAST_365_DAYS\"\n",
    "* \"LAST_7_DAYS\"\n",
    "* \"LAST_90_DAYS\"\n",
    "* \"MONTH_TO_DATE\"\n",
    "* \"PREVIOUS_MONTH\"\n",
    "* \"PREVIOUS_QUARTER\"\n",
    "* \"PREVIOUS_WEEK\"\n",
    "* \"PREVIOUS_YEAR\"\n",
    "* \"QUARTER_TO_DATE\"\n",
    "* \"TODAY\"\n",
    "* \"WEEK_TO_DATE\"\n",
    "* \"YEAR_TO_DATE\"\n",
    "* \"YESTERDAY\""
   ]
  },
  {
   "cell_type": "code",
   "execution_count": null,
   "metadata": {},
   "outputs": [],
   "source": [
    "# Start/end dates are inclusive. Keep blank/comment out if using relative date range.\n",
    "start_date_dcmapi = '2017-07-01'\n",
    "end_date_dcmapi = '2017-07-05'\n",
    "\n",
    "relative_date_range_dcmapi = '' # keep blank/comment out if using start/end dates"
   ]
  },
  {
   "cell_type": "markdown",
   "metadata": {},
   "source": [
    "### The list of <font color='green'>filters</font> on which dimensions are filtered.\n",
    "#### See full list: https://developers.google.com/doubleclick-advertisers/v3.0/dimensions#standard-filters\n",
    "#### Note that you cannot both filter dimesnions on activity/activity groups AND add activities and activity metrics to the report"
   ]
  },
  {
   "cell_type": "code",
   "execution_count": null,
   "metadata": {},
   "outputs": [],
   "source": [
    "# Create a list/s of your variables to filter (do not include 'dfa:'), with the '_dimfilter' extension\n",
    "# Keep blank or comment out if not needed\n",
    "\n",
    "advertiserId_dimfilter_dcmapi = ['1982999']\n",
    "campaignId_dimfilter_dcmapi = ['39919857','39928064']"
   ]
  },
  {
   "cell_type": "markdown",
   "metadata": {},
   "source": [
    "### The list of <font color='green'>dimensions</font> (items) to include as columns.\n",
    "#### For example: dimensions = ['dfa:date', 'dfa:week', 'dfa:month', 'dfa:placementId']\n",
    "#### See full list: https://developers.google.com/doubleclick-advertisers/v3.0/dimensions#standard-dimensions"
   ]
  },
  {
   "cell_type": "code",
   "execution_count": null,
   "metadata": {},
   "outputs": [],
   "source": [
    "dimensions_dcmapi = ['dfa:date','dfa:campaign','dfa:campaignId','dfa:placement','dfa:placementId','dfa:siteDirectory', \n",
    "              'dfa:site','dfa:siteId','dfa:creativeType']\n"
   ]
  },
  {
   "cell_type": "markdown",
   "metadata": {},
   "source": [
    "### The list of <font color='blue'>metrics</font> to include as columns.\n",
    "#### For example: metrics = ['dfa:impressions', 'dfa:clicks', 'dfa:totalConversions', 'dfa:mediaCost']\n",
    "#### See full list: https://developers.google.com/doubleclick-advertisers/v3.0/dimensions#standard-metrics"
   ]
  },
  {
   "cell_type": "code",
   "execution_count": null,
   "metadata": {},
   "outputs": [],
   "source": [
    "metrics_dcmapi = ['dfa:impressions', 'dfa:clicks', 'dfa:totalConversions'] "
   ]
  },
  {
   "cell_type": "markdown",
   "metadata": {},
   "source": [
    "#### The list of <font color='blue'>Floodlights</font> (activities) and/or <font color='blue'>activities group</font> to filter and <font color='blue'>activity metrics</font> to include as columns.\n",
    "#### Note that you cannot both filter dimesnions on activity/activity groups AND add activities and activity metrics to the report"
   ]
  },
  {
   "cell_type": "code",
   "execution_count": null,
   "metadata": {},
   "outputs": [],
   "source": [
    "# Create a list/s of your activities/activitiy groups to filter (do not include 'dfa:'), with the '_actfilter' extension\n",
    "# Keep blank or comment out if not needed\n",
    "\n",
    "activityId_actfilter_dcmapi =  ['2800294','2341519']\n",
    "activityGroupId_actfilter_dcmapi = ''\n",
    "\n",
    "#Metrics:\n",
    "# See full list: https://developers.google.com/doubleclick-advertisers/v3.0/dimensions#activity-metrics\n",
    "metrics_activities_dcmapi = ['dfa:totalConversions']"
   ]
  },
  {
   "cell_type": "markdown",
   "metadata": {},
   "source": [
    "#### The 'create_report' function doesn't accept any variables. Instead, it looks for the relevant local variables ending with '_dcmapi'. \n",
    "#### Note: Reports can take several minutes to create. If the timer is progressing then the report is still being processed."
   ]
  },
  {
   "cell_type": "code",
   "execution_count": null,
   "metadata": {},
   "outputs": [],
   "source": [
    "report_df, report_meta_df = create_report()\n",
    "pd.options.display.max_columns = None\n",
    "report_df"
   ]
  },
  {
   "cell_type": "code",
   "execution_count": null,
   "metadata": {},
   "outputs": [],
   "source": [
    "pd.set_option('display.max_colwidth', -1)\n",
    "report_meta_df"
   ]
  },
  {
   "cell_type": "code",
   "execution_count": null,
   "metadata": {},
   "outputs": [],
   "source": []
  },
  {
   "cell_type": "markdown",
   "metadata": {},
   "source": [
    "<a id='guide'></a>\n",
    "# <font color='blue'>Guide</font>"
   ]
  },
  {
   "cell_type": "markdown",
   "metadata": {
    "collapsed": true
   },
   "source": [
    "## A. Pre-reqs. (this should only be done the first time running the API)\n",
    "\n",
    "#### 1) a. Go to https://console.developers.google.com/start/api?id=dfareporting&credential=client_key (using your DCM login) <br> &nbsp;&nbsp;&nbsp;&nbsp;&nbsp;&nbsp;&nbsp;&nbsp;&nbsp;and click <font color='green'>Continue</font> to create a project:\n",
    "\n",
    "<img src=\"https://preview.ibb.co/iDytKR/01.png\" width=\"300\" align=\"left\"/>\n",
    "<br><br><br><br><br><br><br><br><br>\n",
    "#### &nbsp;&nbsp;&nbsp;&nbsp;b. You should see the message: _The API is enabled_. <br> &nbsp;&nbsp;&nbsp;&nbsp;&nbsp;&nbsp;&nbsp;&nbsp;&nbsp;Click on <font color='green'>Go to credentials</font>\n",
    "#### &nbsp;&nbsp;&nbsp;&nbsp;c. Set the following settings (i.e., <font color='red'>Other UI</font> and <font color='red'>User data</font>):\n",
    "\n",
    "<img src=\"https://preview.ibb.co/jkNLzR/02.png\" width=\"300\" align=\"left\"/>\n",
    "&nbsp;&nbsp;&nbsp;&nbsp;<br><br><br><br><br><br><br><br><br><br><br><br><br><br>\n",
    "#### &nbsp;&nbsp;&nbsp;&nbsp;d. Click <font color='green'>What credentials do I need?</font>, then enter something for the client name (e.g., <font color='red'>dcm_api</font>):\n",
    "\n",
    "<img src=\"https://preview.ibb.co/jYDhDm/03.png\" width=\"300\" align=\"left\"/>\n",
    "<br><br><br><br><br><br><br><br><br><br><br>\n",
    "#### &nbsp;&nbsp;&nbsp;&nbsp;e. Click <font color='green'>Create client ID</font>. Under *'product name shown to user'* enter something (e.g., <font color='red'>dcm_api</font>):\n",
    "\n",
    "<img src=\"https://preview.ibb.co/gM5vYm/04.png\" width=\"300\" align=\"left\"/>\n",
    "<br><br><br><br><br><br><br><br><br><br><br><br><br><br><br><br><br>\n",
    "#### &nbsp;&nbsp;&nbsp;&nbsp;f. Click <font color='green'>Continue</font> then <font color='green'>Download</font> to get the json file containing the API credentials. Click <font color='green'>Done</font>.\n",
    "\n",
    "#### 2) Place the json file in the *working directory* (i.e., where you are/will be running this notebook from).\n",
    "\n",
    "## B. Get your Samsung DCM profile ID. \n",
    "#### Can be found in DCM by clicking the round user icon (top right) -- the profile ID is the 7-digit number next to your user name.\n",
    "\n",
    "## C. Use the following screen as a reference for the available fields in a (STANDARD) report:\n",
    "\n",
    "<img src=\"http://preview.ibb.co/fkabkc/Screen_Shot_2018_02_04_at_15_46_46.png\" width=\"500\" align=\"left\"/>"
   ]
  },
  {
   "cell_type": "code",
   "execution_count": null,
   "metadata": {},
   "outputs": [],
   "source": []
  }
 ],
 "metadata": {
  "kernelspec": {
   "display_name": "Python 3",
   "language": "python",
   "name": "python3"
  },
  "language_info": {
   "codemirror_mode": {
    "name": "ipython",
    "version": 3
   },
   "file_extension": ".py",
   "mimetype": "text/x-python",
   "name": "python",
   "nbconvert_exporter": "python",
   "pygments_lexer": "ipython3",
   "version": "3.6.5"
  }
 },
 "nbformat": 4,
 "nbformat_minor": 2
}
